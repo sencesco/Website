{
 "cells": [
  {
   "cell_type": "markdown",
   "id": "f1945ab0-15a4-47cb-8210-bd6c4cc9a7a8",
   "metadata": {},
   "source": [
    "**HTML Boilerplate**\n",
    "\n",
    "$\\;\\;\\;\\;$ HTML Boilerplate, often referred to as an \"HTML template\" or \"HTML starter code,\" is a basic structure for an HTML document that provides a starting point for creating web pages. boilerplate is a pre-prepared library of code that can be copied and used as a starting point to start building web projects. It includes a basic structure for an HTML document, like the typical html, head, and body tags, as well as links to CSS and JavaScript files. It typically includes essential elements and metadata required for a well-structured and functional webpage. Developers commonly use HTML boilerplates as a foundation to build upon because they ensure consistency and best practices.\n",
    "\n",
    "Here is an example of an HTML boilerplate:\n",
    "\n",
    "```\n",
    "<!DOCTYPE html>\n",
    "<html lang=\"en\">\n",
    "<head>\n",
    "  <meta charset=\"utf-8\">\n",
    "  <meta name=\"viewport\" content=\"width=device-width\">\n",
    "  <title>My Website</title>\n",
    "  <link rel=\"stylesheet\" href=\"style.css\">\n",
    "</head>\n",
    "<body>\n",
    "  <h1>This is my website</h1>\n",
    "</body>\n",
    "</html>\n",
    "\n",
    "```\n",
    "\n",
    "The `DOCTYPE` declaration, which tells the browser what version of HTML the document is using. So `<!DOCTYPE html>` is now version is HTML5\n",
    "<br>The `<html>` element is the root element or root of the document of an HTML page. It means that everything else, every other element, no matter if it's an H1 or an image or a link, it's all going to go inside the opening and closing tags of the HTML element and this \n",
    "- The `lang` attribute, which specifies the language of the document. You can not see on the webpage but can hearing for blind pepople.\n",
    "\n",
    "The `<head>` element contains meta information about the HTML page, such as the title displayed in the browser's title bar. This part of the document that is not visible to the user, but it is used by the browser to store information about the page.\n",
    "- The `<meta>` tag is used to provide metadata about an HTML document, and placed within the `<head>` element . This tag can be used to specify the title of the page, keywords, descriptions, and other information that can be used by browsers, search engines, and other web services.\n",
    "  - The `charset` attribute, It's used to specify the character encoding of a web page. The charset attribute specifies the character encoding, and in this case, it is set to utf-8. UTF-8 is the most common character encoding used on the web, and it can represent all of the characters in the world.\n",
    "  - The `viewport` attribute, which tells the browser to scale the page to fit the width of the device.\n",
    "- The `title` tag, which specifies the title of the document (which is shown in the browser's title bar or in the page's tab) and placed within the `<head>` element. \n",
    "- The `link` tag, which links to the style.css file and placed within the `<head>` element.\n",
    "\n",
    "The <body> element defines the document's body, and is a container for all the visible contents, such as headings, paragraphs, images, hyperlinks, tables, lists, etc.\n",
    "- The `<h1>` tag, which creates a large heading, this tage is top level hierarchy of `<h2>` to `<h6>` and placed within the `<body>` element."
   ]
  },
  {
   "cell_type": "code",
   "execution_count": null,
   "id": "79cf2144-519d-42d1-9d88-1570256e4b07",
   "metadata": {},
   "outputs": [],
   "source": []
  }
 ],
 "metadata": {
  "kernelspec": {
   "display_name": "Python 3 (ipykernel)",
   "language": "python",
   "name": "python3"
  },
  "language_info": {
   "codemirror_mode": {
    "name": "ipython",
    "version": 3
   },
   "file_extension": ".py",
   "mimetype": "text/x-python",
   "name": "python",
   "nbconvert_exporter": "python",
   "pygments_lexer": "ipython3",
   "version": "3.11.3"
  }
 },
 "nbformat": 4,
 "nbformat_minor": 5
}
